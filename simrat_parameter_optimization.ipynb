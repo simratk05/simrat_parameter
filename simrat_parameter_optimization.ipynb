{
  "cells": [
    {
      "cell_type": "code",
      "execution_count": 3,
      "metadata": {
        "colab": {
          "base_uri": "https://localhost:8080/"
        },
        "id": "GBU72bn-6-dX",
        "outputId": "070efa64-9df9-44bb-d36e-073fc2070f32"
      },
      "outputs": [
        {
          "output_type": "stream",
          "name": "stdout",
          "text": [
            "Collecting ucimlrepo\n",
            "  Downloading ucimlrepo-0.0.7-py3-none-any.whl.metadata (5.5 kB)\n",
            "Requirement already satisfied: pandas>=1.0.0 in /usr/local/lib/python3.11/dist-packages (from ucimlrepo) (2.2.2)\n",
            "Requirement already satisfied: certifi>=2020.12.5 in /usr/local/lib/python3.11/dist-packages (from ucimlrepo) (2025.1.31)\n",
            "Requirement already satisfied: numpy>=1.23.2 in /usr/local/lib/python3.11/dist-packages (from pandas>=1.0.0->ucimlrepo) (2.0.2)\n",
            "Requirement already satisfied: python-dateutil>=2.8.2 in /usr/local/lib/python3.11/dist-packages (from pandas>=1.0.0->ucimlrepo) (2.8.2)\n",
            "Requirement already satisfied: pytz>=2020.1 in /usr/local/lib/python3.11/dist-packages (from pandas>=1.0.0->ucimlrepo) (2025.2)\n",
            "Requirement already satisfied: tzdata>=2022.7 in /usr/local/lib/python3.11/dist-packages (from pandas>=1.0.0->ucimlrepo) (2025.2)\n",
            "Requirement already satisfied: six>=1.5 in /usr/local/lib/python3.11/dist-packages (from python-dateutil>=2.8.2->pandas>=1.0.0->ucimlrepo) (1.17.0)\n",
            "Downloading ucimlrepo-0.0.7-py3-none-any.whl (8.0 kB)\n",
            "Installing collected packages: ucimlrepo\n",
            "Successfully installed ucimlrepo-0.0.7\n"
          ]
        }
      ],
      "source": [
        "pip install ucimlrepo"
      ]
    },
    {
      "cell_type": "code",
      "execution_count": 9,
      "metadata": {
        "id": "YkKFSkRX71tn"
      },
      "outputs": [],
      "source": [
        "import numpy as np\n",
        "import pandas as pd\n",
        "from ucimlrepo import fetch_ucirepo\n",
        "from sklearn.model_selection import train_test_split, RandomizedSearchCV\n",
        "from sklearn.svm import SVC, LinearSVC\n",
        "from sklearn.preprocessing import StandardScaler\n",
        "from sklearn.metrics import accuracy_score\n",
        "import matplotlib.pyplot as plt\n",
        "from scipy.stats import loguniform\n"
      ]
    },
    {
      "cell_type": "code",
      "execution_count": 5,
      "metadata": {
        "colab": {
          "base_uri": "https://localhost:8080/"
        },
        "id": "ElcNLy1N7Ia9",
        "outputId": "2310c8f8-b27a-4218-8c40-51bef547637f"
      },
      "outputs": [
        {
          "output_type": "stream",
          "name": "stdout",
          "text": [
            "{'uci_id': 80, 'name': 'Optical Recognition of Handwritten Digits', 'repository_url': 'https://archive.ics.uci.edu/dataset/80/optical+recognition+of+handwritten+digits', 'data_url': 'https://archive.ics.uci.edu/static/public/80/data.csv', 'abstract': 'Two versions of this database available; see folder', 'area': 'Computer Science', 'tasks': ['Classification'], 'characteristics': ['Multivariate'], 'num_instances': 5620, 'num_features': 64, 'feature_types': ['Integer'], 'demographics': [], 'target_col': ['class'], 'index_col': None, 'has_missing_values': 'no', 'missing_values_symbol': None, 'year_of_dataset_creation': 1998, 'last_updated': 'Wed Aug 23 2023', 'dataset_doi': '10.24432/C50P49', 'creators': ['E. Alpaydin', 'C. Kaynak'], 'intro_paper': {'ID': 280, 'type': 'NATIVE', 'title': 'Methods of Combining Multiple Classifiers and Their Applications to Handwritten Digit Recognition', 'authors': 'C. Kaynak', 'venue': 'MSc Thesis, Institute of Graduate Studies in Science and Engineering, Bogazici University', 'year': 1995, 'journal': None, 'DOI': None, 'URL': None, 'sha': None, 'corpus': None, 'arxiv': None, 'mag': None, 'acl': None, 'pmid': None, 'pmcid': None}, 'additional_info': {'summary': 'We used preprocessing programs made available by NIST to extract normalized bitmaps of handwritten digits from a preprinted form. From a total of 43 people, 30 contributed to the training set and different 13 to the test set. 32x32 bitmaps are divided into nonoverlapping blocks of 4x4 and the number of on pixels are counted in each block. This generates an input matrix of 8x8 where each element is an integer in the range 0..16. This reduces dimensionality and gives invariance to small distortions.\\r\\n\\r\\nFor info on NIST preprocessing routines, see M. D. Garris, J. L. Blue, G. T. Candela, D. L. Dimmick, J. Geist, P. J. Grother, S. A. Janet, and C. L. Wilson, NIST Form-Based Handprint Recognition System, NISTIR 5469, 1994.', 'purpose': None, 'funded_by': None, 'instances_represent': None, 'recommended_data_splits': None, 'sensitive_data': None, 'preprocessing_description': None, 'variable_info': 'All input attributes are integers in the range 0..16.\\r\\nThe last attribute is the class code 0..9', 'citation': None}}\n",
            "           name     role         type demographic description units  \\\n",
            "0    Attribute1  Feature      Integer        None        None  None   \n",
            "1    Attribute2  Feature      Integer        None        None  None   \n",
            "2    Attribute3  Feature      Integer        None        None  None   \n",
            "3    Attribute4  Feature      Integer        None        None  None   \n",
            "4    Attribute5  Feature      Integer        None        None  None   \n",
            "..          ...      ...          ...         ...         ...   ...   \n",
            "60  Attribute61  Feature      Integer        None        None  None   \n",
            "61  Attribute62  Feature      Integer        None        None  None   \n",
            "62  Attribute63  Feature      Integer        None        None  None   \n",
            "63  Attribute64  Feature      Integer        None        None  None   \n",
            "64        class   Target  Categorical        None        None  None   \n",
            "\n",
            "   missing_values  \n",
            "0              no  \n",
            "1              no  \n",
            "2              no  \n",
            "3              no  \n",
            "4              no  \n",
            "..            ...  \n",
            "60             no  \n",
            "61             no  \n",
            "62             no  \n",
            "63             no  \n",
            "64             no  \n",
            "\n",
            "[65 rows x 7 columns]\n"
          ]
        }
      ],
      "source": [
        "from ucimlrepo import fetch_ucirepo\n",
        "\n",
        "# fetch dataset\n",
        "optical_recognition_of_handwritten_digits = fetch_ucirepo(id=80)\n",
        "\n",
        "# data (as pandas dataframes)\n",
        "X = optical_recognition_of_handwritten_digits.data.features\n",
        "y = optical_recognition_of_handwritten_digits.data.targets\n",
        "\n",
        "# metadata\n",
        "print(optical_recognition_of_handwritten_digits.metadata)\n",
        "\n",
        "# variable information\n",
        "print(optical_recognition_of_handwritten_digits.variables)\n"
      ]
    },
    {
      "cell_type": "code",
      "source": [
        "df = pd.concat([X, y], axis=1)\n",
        "print(\"Shape of dataset:\", df.shape)\n"
      ],
      "metadata": {
        "colab": {
          "base_uri": "https://localhost:8080/"
        },
        "id": "aS6Ue16MfIfC",
        "outputId": "92c952e4-805c-4dd6-bc56-fcbbaa831a49"
      },
      "execution_count": 13,
      "outputs": [
        {
          "output_type": "stream",
          "name": "stdout",
          "text": [
            "Shape of dataset: (5620, 65)\n"
          ]
        }
      ]
    },
    {
      "cell_type": "code",
      "source": [
        "print(\"Data types:\\n\", df.dtypes)"
      ],
      "metadata": {
        "colab": {
          "base_uri": "https://localhost:8080/"
        },
        "id": "ZUkyPDlsfISJ",
        "outputId": "63dda47d-82d5-4bd6-81c3-93e58f3f1bf0"
      },
      "execution_count": 14,
      "outputs": [
        {
          "output_type": "stream",
          "name": "stdout",
          "text": [
            "\n",
            "Data types:\n",
            " Attribute1     int64\n",
            "Attribute2     int64\n",
            "Attribute3     int64\n",
            "Attribute4     int64\n",
            "Attribute5     int64\n",
            "               ...  \n",
            "Attribute61    int64\n",
            "Attribute62    int64\n",
            "Attribute63    int64\n",
            "Attribute64    int64\n",
            "class          int64\n",
            "Length: 65, dtype: object\n"
          ]
        }
      ]
    },
    {
      "cell_type": "code",
      "source": [
        "print(\"First 5 rows:\\n\", df.head())"
      ],
      "metadata": {
        "colab": {
          "base_uri": "https://localhost:8080/"
        },
        "id": "62vHfbIvfH9F",
        "outputId": "106248bf-c75c-41a7-e30b-0f962a92bd23"
      },
      "execution_count": 15,
      "outputs": [
        {
          "output_type": "stream",
          "name": "stdout",
          "text": [
            "\n",
            "First 5 rows:\n",
            "    Attribute1  Attribute2  Attribute3  Attribute4  Attribute5  Attribute6  \\\n",
            "0           0           1           6          15          12           1   \n",
            "1           0           0          10          16           6           0   \n",
            "2           0           0           8          15          16          13   \n",
            "3           0           0           0           3          11          16   \n",
            "4           0           0           5          14           4           0   \n",
            "\n",
            "   Attribute7  Attribute8  Attribute9  Attribute10  ...  Attribute56  \\\n",
            "0           0           0           0            7  ...            0   \n",
            "1           0           0           0            7  ...            0   \n",
            "2           0           0           0            1  ...            0   \n",
            "3           0           0           0            0  ...            0   \n",
            "4           0           0           0            0  ...            0   \n",
            "\n",
            "   Attribute57  Attribute58  Attribute59  Attribute60  Attribute61  \\\n",
            "0            0            0            6           14            7   \n",
            "1            0            0           10           16           15   \n",
            "2            0            0            9           14            0   \n",
            "3            0            0            0            1           15   \n",
            "4            0            0            4           12           14   \n",
            "\n",
            "   Attribute62  Attribute63  Attribute64  class  \n",
            "0            1            0            0      0  \n",
            "1            3            0            0      0  \n",
            "2            0            0            0      7  \n",
            "3            2            0            0      4  \n",
            "4            7            0            0      6  \n",
            "\n",
            "[5 rows x 65 columns]\n"
          ]
        }
      ]
    },
    {
      "cell_type": "code",
      "source": [
        "print(\"Missing values:\\n\", df.isnull().sum())"
      ],
      "metadata": {
        "colab": {
          "base_uri": "https://localhost:8080/"
        },
        "id": "XwLfxH-Jf3rm",
        "outputId": "3ae8af88-6284-4530-b470-0131c5b04394"
      },
      "execution_count": 16,
      "outputs": [
        {
          "output_type": "stream",
          "name": "stdout",
          "text": [
            "\n",
            "Missing values:\n",
            " Attribute1     0\n",
            "Attribute2     0\n",
            "Attribute3     0\n",
            "Attribute4     0\n",
            "Attribute5     0\n",
            "              ..\n",
            "Attribute61    0\n",
            "Attribute62    0\n",
            "Attribute63    0\n",
            "Attribute64    0\n",
            "class          0\n",
            "Length: 65, dtype: int64\n"
          ]
        }
      ]
    },
    {
      "cell_type": "code",
      "source": [
        "print(\"Summary statistics:\\n\", df.describe())"
      ],
      "metadata": {
        "colab": {
          "base_uri": "https://localhost:8080/"
        },
        "id": "g01Jm68uf3oT",
        "outputId": "6d461590-56ad-48de-91f0-2f883b07e4db"
      },
      "execution_count": 18,
      "outputs": [
        {
          "output_type": "stream",
          "name": "stdout",
          "text": [
            "Summary statistics:\n",
            "        Attribute1   Attribute2   Attribute3   Attribute4   Attribute5  \\\n",
            "count      5620.0  5620.000000  5620.000000  5620.000000  5620.000000   \n",
            "mean          0.0     0.302135     5.393238    11.815480    11.578292   \n",
            "std           0.0     0.879962     4.672719     4.255952     4.462546   \n",
            "min           0.0     0.000000     0.000000     0.000000     0.000000   \n",
            "25%           0.0     0.000000     1.000000    10.000000     9.000000   \n",
            "50%           0.0     0.000000     5.000000    13.000000    13.000000   \n",
            "75%           0.0     0.000000     9.000000    15.000000    15.000000   \n",
            "max           0.0     8.000000    16.000000    16.000000    16.000000   \n",
            "\n",
            "        Attribute6   Attribute7   Attribute8   Attribute9  Attribute10  ...  \\\n",
            "count  5620.000000  5620.000000  5620.000000  5620.000000  5620.000000  ...   \n",
            "mean      5.593772     1.379359     0.138256     0.003203     1.971174  ...   \n",
            "std       5.631149     3.356633     1.046998     0.090423     3.098815  ...   \n",
            "min       0.000000     0.000000     0.000000     0.000000     0.000000  ...   \n",
            "25%       0.000000     0.000000     0.000000     0.000000     0.000000  ...   \n",
            "50%       4.000000     0.000000     0.000000     0.000000     0.000000  ...   \n",
            "75%      10.000000     0.000000     0.000000     0.000000     3.000000  ...   \n",
            "max      16.000000    16.000000    16.000000     5.000000    16.000000  ...   \n",
            "\n",
            "       Attribute56  Attribute57  Attribute58  Attribute59  Attribute60  \\\n",
            "count  5620.000000  5620.000000  5620.000000  5620.000000  5620.000000   \n",
            "mean      0.166904     0.000356     0.281851     5.760498    11.989680   \n",
            "std       0.843455     0.018863     0.929969     5.021145     4.347542   \n",
            "min       0.000000     0.000000     0.000000     0.000000     0.000000   \n",
            "25%       0.000000     0.000000     0.000000     1.000000    10.000000   \n",
            "50%       0.000000     0.000000     0.000000     5.000000    13.000000   \n",
            "75%       0.000000     0.000000     0.000000    10.000000    15.000000   \n",
            "max      13.000000     1.000000    10.000000    16.000000    16.000000   \n",
            "\n",
            "       Attribute61  Attribute62  Attribute63  Attribute64        class  \n",
            "count  5620.000000  5620.000000  5620.000000  5620.000000  5620.000000  \n",
            "mean     11.572420     6.720819     2.093594     0.254093     4.495196  \n",
            "std       4.975675     5.815564     4.047959     1.418558     2.868131  \n",
            "min       0.000000     0.000000     0.000000     0.000000     0.000000  \n",
            "25%       9.000000     0.000000     0.000000     0.000000     2.000000  \n",
            "50%      13.000000     6.000000     0.000000     0.000000     4.000000  \n",
            "75%      16.000000    12.000000     2.000000     0.000000     7.000000  \n",
            "max      16.000000    16.000000    16.000000    16.000000     9.000000  \n",
            "\n",
            "[8 rows x 65 columns]\n"
          ]
        }
      ]
    },
    {
      "cell_type": "code",
      "source": [
        "import seaborn as sns\n",
        "plt.figure(figsize=(8, 5))\n",
        "sns.countplot(x=df.columns[-1], data=df)\n",
        "plt.title(\"Distribution of Digits\")\n",
        "plt.xlabel(\"Digit\")\n",
        "plt.ylabel(\"Count\")\n",
        "plt.show()"
      ],
      "metadata": {
        "colab": {
          "base_uri": "https://localhost:8080/",
          "height": 487
        },
        "id": "Vv1lh720f3mH",
        "outputId": "d7d92c7f-2cae-4cbd-c0f1-339fcbc0dd45"
      },
      "execution_count": 20,
      "outputs": [
        {
          "output_type": "display_data",
          "data": {
            "text/plain": [
              "<Figure size 800x500 with 1 Axes>"
            ],
            "image/png": "[encoded data removed]"
          },
          "metadata": {}
        }
      ]
    },
    {
      "cell_type": "code",
      "source": [
        "plt.figure(figsize=(12, 8))\n",
        "subset = df.iloc[:, :16]  # first 16 features\n",
        "sns.heatmap(subset.corr(), annot=False, cmap=\"coolwarm\")\n",
        "plt.title(\"Correlation Heatmap (First 16 Features)\")\n",
        "plt.show()"
      ],
      "metadata": {
        "colab": {
          "base_uri": "https://localhost:8080/",
          "height": 764
        },
        "id": "vDcyQs_gf3i_",
        "outputId": "020bf504-a8f2-4c7c-a46b-f8431b382be7"
      },
      "execution_count": 21,
      "outputs": [
        {
          "output_type": "display_data",
          "data": {
            "text/plain": [
              "<Figure size 1200x800 with 2 Axes>"
            ],
            "image/png": "[encoded data removed]"
          },
          "metadata": {}
        }
      ]
    },
    {
      "cell_type": "code",
      "execution_count": 10,
      "metadata": {
        "id": "YKiisDBY7IXU"
      },
      "outputs": [],
      "source": [
        "# Scale the data (critical for SVM performance)\n",
        "scaler = StandardScaler()\n",
        "X_scaled = scaler.fit_transform(X)\n"
      ]
    },
    {
      "cell_type": "code",
      "execution_count": 11,
      "metadata": {
        "id": "6aaYWzbT7IU2"
      },
      "outputs": [],
      "source": [
        "param_dist = {\n",
        "    'kernel': ['rbf', 'linear', 'sigmoid'],\n",
        "    'C': loguniform(0.1, 100),\n",
        "    'gamma': ['scale', 'auto']\n",
        "}\n"
      ]
    },
    {
      "cell_type": "code",
      "execution_count": 8,
      "metadata": {
        "id": "vgchlkqd7II_",
        "colab": {
          "base_uri": "https://localhost:8080/",
          "height": 1000
        },
        "outputId": "69a17bf4-bac2-4196-ea9b-e6bda0347f20"
      },
      "outputs": [
        {
          "metadata": {
            "tags": null
          },
          "name": "stdout",
          "output_type": "stream",
          "text": [
            "Fitting 3 folds for each of 100 candidates, totalling 300 fits\n"
          ]
        },
        {
          "metadata": {
            "tags": null
          },
          "name": "stderr",
          "output_type": "stream",
          "text": [
            "/usr/local/lib/python3.11/dist-packages/sklearn/utils/validation.py:1408: DataConversionWarning: A column-vector y was passed when a 1d array was expected. Please change the shape of y to (n_samples, ), for example using ravel().\n",
            "  y = column_or_1d(y, warn=True)\n"
          ]
        },
        {
          "metadata": {
            "tags": null
          },
          "name": "stdout",
          "output_type": "stream",
          "text": [
            "Fitting 3 folds for each of 100 candidates, totalling 300 fits\n"
          ]
        },
        {
          "metadata": {
            "tags": null
          },
          "name": "stderr",
          "output_type": "stream",
          "text": [
            "/usr/local/lib/python3.11/dist-packages/sklearn/utils/validation.py:1408: DataConversionWarning: A column-vector y was passed when a 1d array was expected. Please change the shape of y to (n_samples, ), for example using ravel().\n",
            "  y = column_or_1d(y, warn=True)\n"
          ]
        },
        {
          "metadata": {
            "tags": null
          },
          "name": "stdout",
          "output_type": "stream",
          "text": [
            "Fitting 3 folds for each of 100 candidates, totalling 300 fits\n"
          ]
        },
        {
          "metadata": {
            "tags": null
          },
          "name": "stderr",
          "output_type": "stream",
          "text": [
            "/usr/local/lib/python3.11/dist-packages/sklearn/utils/validation.py:1408: DataConversionWarning: A column-vector y was passed when a 1d array was expected. Please change the shape of y to (n_samples, ), for example using ravel().\n",
            "  y = column_or_1d(y, warn=True)\n"
          ]
        },
        {
          "metadata": {
            "tags": null
          },
          "name": "stdout",
          "output_type": "stream",
          "text": [
            "Fitting 3 folds for each of 100 candidates, totalling 300 fits\n"
          ]
        },
        {
          "metadata": {
            "tags": null
          },
          "name": "stderr",
          "output_type": "stream",
          "text": [
            "/usr/local/lib/python3.11/dist-packages/sklearn/utils/validation.py:1408: DataConversionWarning: A column-vector y was passed when a 1d array was expected. Please change the shape of y to (n_samples, ), for example using ravel().\n",
            "  y = column_or_1d(y, warn=True)\n"
          ]
        },
        {
          "metadata": {
            "tags": null
          },
          "name": "stdout",
          "output_type": "stream",
          "text": [
            "Fitting 3 folds for each of 100 candidates, totalling 300 fits\n"
          ]
        },
        {
          "metadata": {
            "tags": null
          },
          "name": "stderr",
          "output_type": "stream",
          "text": [
            "/usr/local/lib/python3.11/dist-packages/sklearn/utils/validation.py:1408: DataConversionWarning: A column-vector y was passed when a 1d array was expected. Please change the shape of y to (n_samples, ), for example using ravel().\n",
            "  y = column_or_1d(y, warn=True)\n"
          ]
        },
        {
          "metadata": {
            "tags": null
          },
          "name": "stdout",
          "output_type": "stream",
          "text": [
            "Fitting 3 folds for each of 100 candidates, totalling 300 fits\n"
          ]
        },
        {
          "metadata": {
            "tags": null
          },
          "name": "stderr",
          "output_type": "stream",
          "text": [
            "/usr/local/lib/python3.11/dist-packages/sklearn/utils/validation.py:1408: DataConversionWarning: A column-vector y was passed when a 1d array was expected. Please change the shape of y to (n_samples, ), for example using ravel().\n",
            "  y = column_or_1d(y, warn=True)\n"
          ]
        },
        {
          "metadata": {
            "tags": null
          },
          "name": "stdout",
          "output_type": "stream",
          "text": [
            "Fitting 3 folds for each of 100 candidates, totalling 300 fits\n"
          ]
        },
        {
          "metadata": {
            "tags": null
          },
          "name": "stderr",
          "output_type": "stream",
          "text": [
            "/usr/local/lib/python3.11/dist-packages/sklearn/utils/validation.py:1408: DataConversionWarning: A column-vector y was passed when a 1d array was expected. Please change the shape of y to (n_samples, ), for example using ravel().\n",
            "  y = column_or_1d(y, warn=True)\n"
          ]
        },
        {
          "metadata": {
            "tags": null
          },
          "name": "stdout",
          "output_type": "stream",
          "text": [
            "Fitting 3 folds for each of 100 candidates, totalling 300 fits\n"
          ]
        },
        {
          "metadata": {
            "tags": null
          },
          "name": "stderr",
          "output_type": "stream",
          "text": [
            "/usr/local/lib/python3.11/dist-packages/sklearn/utils/validation.py:1408: DataConversionWarning: A column-vector y was passed when a 1d array was expected. Please change the shape of y to (n_samples, ), for example using ravel().\n",
            "  y = column_or_1d(y, warn=True)\n"
          ]
        },
        {
          "metadata": {
            "tags": null
          },
          "name": "stdout",
          "output_type": "stream",
          "text": [
            "Fitting 3 folds for each of 100 candidates, totalling 300 fits\n"
          ]
        },
        {
          "metadata": {
            "tags": null
          },
          "name": "stderr",
          "output_type": "stream",
          "text": [
            "/usr/local/lib/python3.11/dist-packages/sklearn/utils/validation.py:1408: DataConversionWarning: A column-vector y was passed when a 1d array was expected. Please change the shape of y to (n_samples, ), for example using ravel().\n",
            "  y = column_or_1d(y, warn=True)\n"
          ]
        },
        {
          "metadata": {
            "tags": null
          },
          "name": "stdout",
          "output_type": "stream",
          "text": [
            "Fitting 3 folds for each of 100 candidates, totalling 300 fits\n"
          ]
        },
        {
          "metadata": {
            "tags": null
          },
          "name": "stderr",
          "output_type": "stream",
          "text": [
            "/usr/local/lib/python3.11/dist-packages/sklearn/utils/validation.py:1408: DataConversionWarning: A column-vector y was passed when a 1d array was expected. Please change the shape of y to (n_samples, ), for example using ravel().\n",
            "  y = column_or_1d(y, warn=True)\n"
          ]
        },
        {
          "metadata": {
            "tags": null
          },
          "name": "stdout",
          "output_type": "stream",
          "text": [
            "\n",
            "Table 1: Comparative performance of Optimized-SVM with different samples\n",
            "  Sample #  Best Accuracy                                Best SVM Parameters\n",
            "0       S1         0.9792  {'C': 5.073432032394333, 'gamma': 'scale', 'ke...\n",
            "1       S2         0.9893  {'C': 3.014246606415109, 'gamma': 'scale', 'ke...\n",
            "2       S3         0.9864  {'C': 12.787708341926468, 'gamma': 'auto', 'ke...\n",
            "3       S4         0.9822  {'C': 2.311124275759298, 'gamma': 'auto', 'ker...\n",
            "4       S5         0.9887  {'C': 82.80433617942744, 'gamma': 'auto', 'ker...\n",
            "5       S6         0.9864  {'C': 6.545323797555708, 'gamma': 'auto', 'ker...\n",
            "6       S7         0.9846  {'C': 2.438274635819787, 'gamma': 'scale', 'ke...\n",
            "7       S8         0.9899  {'C': 40.40214050369614, 'gamma': 'auto', 'ker...\n",
            "8       S9         0.9840  {'C': 2.43826124388798, 'gamma': 'auto', 'kern...\n",
            "9      S10         0.9905  {'C': 87.46446671013472, 'gamma': 'auto', 'ker...\n"
          ]
        },
        {
          "data": {
            "image/png": "[encoded data removed]",
            "text/plain": [
              "<Figure size 800x500 with 1 Axes>"
            ]
          },
          "metadata": {},
          "output_type": "display_data"
        }
      ],
      "source": [
        "results = []\n",
        "all_convergence = []\n",
        "\n",
        "for i in range(10):\n",
        "    # 70-30 split with different random_state\n",
        "    X_train, X_test, y_train, y_test = train_test_split(\n",
        "        X_scaled, y, test_size=0.3, random_state=i, stratify=y\n",
        "    )\n",
        "\n",
        "    # Use a smaller subset for initial search if dataset is large\n",
        "    use_sample = (len(X_train) > 5000)\n",
        "    if use_sample:\n",
        "        X_sample, _, y_sample, _ = train_test_split(\n",
        "            X_train, y_train, train_size=0.3, random_state=i\n",
        "        )\n",
        "    else:\n",
        "        X_sample, y_sample = X_train, y_train\n",
        "\n",
        "    # SVM with RandomizedSearchCV\n",
        "    svm = SVC(cache_size=1000)  # Increase cache size\n",
        "    random_search = RandomizedSearchCV(\n",
        "        estimator=svm,\n",
        "        param_distributions=param_dist,\n",
        "        n_iter=100,\n",
        "        scoring='accuracy',\n",
        "        n_jobs=4,  # Adjust based on your system\n",
        "        cv=3,\n",
        "        random_state=i,\n",
        "        verbose=1  # Set to 1 to monitor progress\n",
        "    )\n",
        "\n",
        "    try:\n",
        "        # Add timeout or catch interruptions\n",
        "        random_search.fit(X_sample, y_sample)\n",
        "\n",
        "        # If using a sample, retrain best model on full training data\n",
        "        if use_sample:\n",
        "            best_model = SVC(**random_search.best_params_, cache_size=1000)\n",
        "            best_model.fit(X_train, y_train)\n",
        "        else:\n",
        "            best_model = random_search.best_estimator_\n",
        "\n",
        "        # Test accuracy\n",
        "        y_pred = best_model.predict(X_test)\n",
        "        test_acc = accuracy_score(y_test, y_pred)\n",
        "\n",
        "        # Store results\n",
        "        results.append({\n",
        "            'Sample #': f'S{i+1}',\n",
        "            'Best Accuracy': np.round(test_acc, 4),\n",
        "            'Best SVM Parameters': random_search.best_params_\n",
        "        })\n",
        "\n",
        "        # Store convergence info\n",
        "        cv_results = random_search.cv_results_['mean_test_score']\n",
        "        best_so_far = np.maximum.accumulate(cv_results)\n",
        "        all_convergence.append(best_so_far)\n",
        "\n",
        "    except KeyboardInterrupt:\n",
        "        print(f\"Search interrupted for sample {i+1}. Moving to next sample.\")\n",
        "        continue\n",
        "\n",
        "# Results table (if any results were collected)\n",
        "if results:\n",
        "    results_df = pd.DataFrame(results)\n",
        "    print(\"\\nTable 1: Comparative performance of Optimized-SVM with different samples\")\n",
        "    print(results_df)\n",
        "\n",
        "    # Plot convergence for best sample if available\n",
        "    if all_convergence:\n",
        "        best_idx = results_df['Best Accuracy'].idxmax()\n",
        "        best_convergence = all_convergence[best_idx]\n",
        "\n",
        "        plt.figure(figsize=(8, 5))\n",
        "        plt.plot(np.arange(1, len(best_convergence)+1), best_convergence * 100)\n",
        "        plt.xlabel('Iteration')\n",
        "        plt.ylabel('Accuracy (%)')\n",
        "        plt.title('Fitness (bestAccuracy) - Convergence Graph')\n",
        "        plt.grid()\n",
        "        plt.show()\n",
        "else:\n",
        "    print(\"No results collected. All searches were interrupted.\")\n"
      ]
    },
    {
      "cell_type": "code",
      "execution_count": null,
      "metadata": {
        "id": "dNVeJ3gW7IGE"
      },
      "outputs": [],
      "source": []
    },
    {
      "cell_type": "code",
      "execution_count": null,
      "metadata": {
        "id": "7e0hkMQ17IDJ"
      },
      "outputs": [],
      "source": []
    },
    {
      "cell_type": "code",
      "execution_count": null,
      "metadata": {
        "id": "SucG9-ow7IAH"
      },
      "outputs": [],
      "source": []
    },
    {
      "cell_type": "code",
      "execution_count": null,
      "metadata": {
        "id": "jnecRx6n7H9I"
      },
      "outputs": [],
      "source": []
    },
    {
      "cell_type": "code",
      "execution_count": null,
      "metadata": {
        "id": "DVt43Njz7H6T"
      },
      "outputs": [],
      "source": []
    },
    {
      "cell_type": "code",
      "execution_count": null,
      "metadata": {
        "id": "3qtUW1oR7H0L"
      },
      "outputs": [],
      "source": []
    },
    {
      "cell_type": "code",
      "execution_count": null,
      "metadata": {
        "id": "-7Njuv2X7HuV"
      },
      "outputs": [],
      "source": []
    },
    {
      "cell_type": "code",
      "execution_count": null,
      "metadata": {
        "id": "rZ76f7eK7Hri"
      },
      "outputs": [],
      "source": []
    },
    {
      "cell_type": "code",
      "execution_count": null,
      "metadata": {
        "id": "RuU9Jtd-7Hov"
      },
      "outputs": [],
      "source": []
    },
    {
      "cell_type": "code",
      "execution_count": null,
      "metadata": {
        "id": "9s0ZEMip7HmI"
      },
      "outputs": [],
      "source": []
    },
    {
      "cell_type": "code",
      "execution_count": null,
      "metadata": {
        "id": "x0cv0uF37HjV"
      },
      "outputs": [],
      "source": []
    }
  ],
  "metadata": {
    "colab": {
      "provenance": []
    },
    "kernelspec": {
      "display_name": "Python 3",
      "name": "python3"
    },
    "language_info": {
      "name": "python"
    }
  },
  "nbformat": 4,
  "nbformat_minor": 0
}